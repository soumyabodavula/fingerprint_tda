{
 "cells": [
  {
   "cell_type": "code",
   "execution_count": null,
   "metadata": {},
   "outputs": [],
   "source": [
    "import fingerprint\n",
    "import cv2\n",
    "import numpy as np\n",
    "import matplotlib.pyplot as plt\n",
    "from skimage.util import invert\n",
    "from gtda.homology import VietorisRipsPersistence"
   ]
  },
  {
   "cell_type": "code",
   "execution_count": null,
   "metadata": {},
   "outputs": [],
   "source": [
    "# Binarizing finger print image\n",
    "original_img = cv2.imread(\"images/print1.png\", cv2.IMREAD_ANYCOLOR)\n",
    "\n",
    "BnW_image = fingerprint.BinarizeFingerprint(original_img, \n",
    "                                            method='Pixel Blocks Optimized', \n",
    "                                            blockSize=15)\n",
    "\n",
    "BnW_image = invert(BnW_image)\n",
    "\n",
    "# Plotting\n",
    "plt.imshow(BnW_image, cmap='gray')\n",
    "plt.show()"
   ]
  },
  {
   "cell_type": "code",
   "execution_count": null,
   "metadata": {},
   "outputs": [],
   "source": [
    "points = fingerprint.ToPointCloud(BnW_image)\n",
    "\n",
    "#plotting\n",
    "from gtda.plotting import plot_point_cloud\n",
    "plot_point_cloud(points[0])"
   ]
  },
  {
   "cell_type": "code",
   "execution_count": null,
   "metadata": {},
   "outputs": [],
   "source": [
    "persistence = VietorisRipsPersistence(\n",
    "    metric=\"euclidean\",\n",
    "    homology_dimensions=[0, 1], # Track connected components, loops\n",
    "    n_jobs=6\n",
    ")\n",
    "\n",
    "diagrams_basic = persistence.fit_transform(points)"
   ]
  },
  {
   "cell_type": "code",
   "execution_count": null,
   "metadata": {},
   "outputs": [],
   "source": []
  },
  {
   "cell_type": "code",
   "execution_count": null,
   "metadata": {},
   "outputs": [],
   "source": [
    "from gtda.plotting import plot_diagram\n",
    "\n",
    "plot_diagram(diagrams_basic[0])"
   ]
  },
  {
   "cell_type": "markdown",
   "metadata": {},
   "source": [
    "# Another Attempt based on MNIST"
   ]
  },
  {
   "cell_type": "code",
   "execution_count": 1,
   "metadata": {},
   "outputs": [],
   "source": [
    "import fingerprint\n",
    "import cv2\n",
    "from skimage.util import invert\n",
    "from gtda.images import RadialFiltration\n",
    "from gtda.diagrams import Scaler\n",
    "from gtda.diagrams import HeatKernel\n",
    "\n",
    "original_img = cv2.imread(\"images/print1.png\", cv2.IMREAD_ANYCOLOR)\n",
    "BnW_image = fingerprint.BinarizeFingerprint(original_img)\n",
    "radial_filtration = RadialFiltration(center=np.array([150, 50]))\n",
    "filtered = radial_filtration.fit_transform(np.array([invert(BnW_image)]))\n",
    "radial_filtration.plot(filtered, colorscale=\"jet\")\n"
   ]
  },
  {
   "cell_type": "code",
   "execution_count": null,
   "metadata": {},
   "outputs": [],
   "source": [
    "diagrams_basic = fingerprint.ToPersistenceDiagram(filtered)\n",
    "scaler = Scaler()\n",
    "scaled_diagrams = scaler.fit_transform(diagrams_basic)\n",
    "scaler.plot(scaled_diagrams)"
   ]
  },
  {
   "cell_type": "code",
   "execution_count": null,
   "metadata": {},
   "outputs": [],
   "source": [
    "h = HeatKernel(sigma=.15, n_bins=60, n_jobs=-1)\n",
    "h_img = h.fit_transform(scaled_diagrams)\n",
    "h.plot(h_img, homology_dimension_idx=1, colorscale='jet')"
   ]
  }
 ],
 "metadata": {
  "kernelspec": {
   "display_name": "base",
   "language": "python",
   "name": "python3"
  },
  "language_info": {
   "codemirror_mode": {
    "name": "ipython",
    "version": 3
   },
   "file_extension": ".py",
   "mimetype": "text/x-python",
   "name": "python",
   "nbconvert_exporter": "python",
   "pygments_lexer": "ipython3",
   "version": "3.9.13"
  }
 },
 "nbformat": 4,
 "nbformat_minor": 2
}
