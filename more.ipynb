{
 "cells": [
  {
   "cell_type": "code",
   "execution_count": null,
   "metadata": {},
   "outputs": [],
   "source": [
    "import fingerprint\n",
    "import cv2\n",
    "import numpy as np\n",
    "import matplotlib.pyplot as plt\n",
    "from skimage.util import invert\n",
    "from gtda.homology import VietorisRipsPersistence"
   ]
  },
  {
   "cell_type": "code",
   "execution_count": null,
   "metadata": {},
   "outputs": [],
   "source": [
    "# Binarizing finger print image\n",
    "original_img = cv2.imread(\"images/print1.png\", cv2.IMREAD_ANYCOLOR)\n",
    "\n",
    "BnW_image = fingerprint.BinarizeFingerprint(original_img, \n",
    "                                            method='Pixel Blocks Optimized', \n",
    "                                            blockSize=15)\n",
    "\n",
    "BnW_image = invert(BnW_image)\n",
    "\n",
    "# Plotting\n",
    "plt.imshow(BnW_image, cmap='gray')\n",
    "plt.show()"
   ]
  },
  {
   "cell_type": "code",
   "execution_count": null,
   "metadata": {},
   "outputs": [],
   "source": [
    "points = fingerprint.ToPointCloud(BnW_image)\n",
    "\n",
    "#plotting\n",
    "from gtda.plotting import plot_point_cloud\n",
    "plot_point_cloud(points[0])"
   ]
  },
  {
   "cell_type": "code",
   "execution_count": null,
   "metadata": {},
   "outputs": [],
   "source": [
    "persistence = VietorisRipsPersistence(\n",
    "    metric=\"euclidean\",\n",
    "    homology_dimensions=[0, 1], # Track connected components, loops\n",
    "    n_jobs=6\n",
    ")\n",
    "\n",
    "diagrams_basic = persistence.fit_transform(points)"
   ]
  },
  {
   "cell_type": "code",
   "execution_count": null,
   "metadata": {},
   "outputs": [],
   "source": []
  },
  {
   "cell_type": "code",
   "execution_count": null,
   "metadata": {},
   "outputs": [],
   "source": [
    "from gtda.plotting import plot_diagram\n",
    "\n",
    "plot_diagram(diagrams_basic[0])"
   ]
  },
  {
   "cell_type": "markdown",
   "metadata": {},
   "source": [
    "# Another Attempt based on MNIST"
   ]
  },
  {
   "cell_type": "code",
   "execution_count": 2,
   "metadata": {},
   "outputs": [
    {
     "ename": "KeyboardInterrupt",
     "evalue": "",
     "output_type": "error",
     "traceback": [
      "\u001b[0;31m---------------------------------------------------------------------------\u001b[0m",
      "\u001b[0;31mKeyboardInterrupt\u001b[0m                         Traceback (most recent call last)",
      "\u001b[1;32m/Users/alejandrobreen/Desktop/fingerprint_tda/more.ipynb Cell 8\u001b[0m line \u001b[0;36m9\n\u001b[1;32m      <a href='vscode-notebook-cell:/Users/alejandrobreen/Desktop/fingerprint_tda/more.ipynb#X10sZmlsZQ%3D%3D?line=5'>6</a>\u001b[0m \u001b[39mfrom\u001b[39;00m \u001b[39mgtda\u001b[39;00m\u001b[39m.\u001b[39;00m\u001b[39mdiagrams\u001b[39;00m \u001b[39mimport\u001b[39;00m HeatKernel\n\u001b[1;32m      <a href='vscode-notebook-cell:/Users/alejandrobreen/Desktop/fingerprint_tda/more.ipynb#X10sZmlsZQ%3D%3D?line=7'>8</a>\u001b[0m original_img \u001b[39m=\u001b[39m cv2\u001b[39m.\u001b[39mimread(\u001b[39m\"\u001b[39m\u001b[39mimages/print1.png\u001b[39m\u001b[39m\"\u001b[39m, cv2\u001b[39m.\u001b[39mIMREAD_ANYCOLOR)\n\u001b[0;32m----> <a href='vscode-notebook-cell:/Users/alejandrobreen/Desktop/fingerprint_tda/more.ipynb#X10sZmlsZQ%3D%3D?line=8'>9</a>\u001b[0m BnW_image \u001b[39m=\u001b[39m fingerprint\u001b[39m.\u001b[39;49mBinarizeFingerprint(original_img)\n\u001b[1;32m     <a href='vscode-notebook-cell:/Users/alejandrobreen/Desktop/fingerprint_tda/more.ipynb#X10sZmlsZQ%3D%3D?line=9'>10</a>\u001b[0m radial_filtration \u001b[39m=\u001b[39m RadialFiltration(center\u001b[39m=\u001b[39mnp\u001b[39m.\u001b[39marray([\u001b[39m150\u001b[39m, \u001b[39m50\u001b[39m]))\n\u001b[1;32m     <a href='vscode-notebook-cell:/Users/alejandrobreen/Desktop/fingerprint_tda/more.ipynb#X10sZmlsZQ%3D%3D?line=10'>11</a>\u001b[0m filtered \u001b[39m=\u001b[39m radial_filtration\u001b[39m.\u001b[39mfit_transform(np\u001b[39m.\u001b[39marray([invert(BnW_image)]))\n",
      "File \u001b[0;32m~/Desktop/fingerprint_tda/fingerprint.py:75\u001b[0m, in \u001b[0;36mBinarizeFingerprint\u001b[0;34m(img, method, blockSize, thresh)\u001b[0m\n\u001b[1;32m     73\u001b[0m rangeJ \u001b[39m=\u001b[39m \u001b[39mrange\u001b[39m(\u001b[39mmax\u001b[39m(j\u001b[39m-\u001b[39mhalf, \u001b[39m0\u001b[39m), \u001b[39mmin\u001b[39m(j\u001b[39m+\u001b[39mhalf, \u001b[39mlen\u001b[39m(im[\u001b[39m0\u001b[39m])\u001b[39m-\u001b[39m\u001b[39m1\u001b[39m))\n\u001b[1;32m     74\u001b[0m rangeI \u001b[39m=\u001b[39m \u001b[39mrange\u001b[39m(\u001b[39mmax\u001b[39m(i\u001b[39m-\u001b[39mhalf, \u001b[39m0\u001b[39m), \u001b[39mmin\u001b[39m(i\u001b[39m+\u001b[39mhalf, \u001b[39mlen\u001b[39m(im)\u001b[39m-\u001b[39m\u001b[39m1\u001b[39m))\n\u001b[0;32m---> 75\u001b[0m mean \u001b[39m=\u001b[39m np\u001b[39m.\u001b[39mmean([np\u001b[39m.\u001b[39mmean([im[x][y] \u001b[39mfor\u001b[39;00m y \u001b[39min\u001b[39;00m rangeJ]) \u001b[39mfor\u001b[39;00m x \u001b[39min\u001b[39;00m rangeI])\n\u001b[1;32m     76\u001b[0m BnW_image[i][j] \u001b[39m=\u001b[39m im[i][j] \u001b[39m>\u001b[39m mean \u001b[39m-\u001b[39m thresh\n\u001b[1;32m     77\u001b[0m i \u001b[39m+\u001b[39m\u001b[39m=\u001b[39m \u001b[39m1\u001b[39m\n",
      "File \u001b[0;32m~/Desktop/fingerprint_tda/fingerprint.py:75\u001b[0m, in \u001b[0;36m<listcomp>\u001b[0;34m(.0)\u001b[0m\n\u001b[1;32m     73\u001b[0m rangeJ \u001b[39m=\u001b[39m \u001b[39mrange\u001b[39m(\u001b[39mmax\u001b[39m(j\u001b[39m-\u001b[39mhalf, \u001b[39m0\u001b[39m), \u001b[39mmin\u001b[39m(j\u001b[39m+\u001b[39mhalf, \u001b[39mlen\u001b[39m(im[\u001b[39m0\u001b[39m])\u001b[39m-\u001b[39m\u001b[39m1\u001b[39m))\n\u001b[1;32m     74\u001b[0m rangeI \u001b[39m=\u001b[39m \u001b[39mrange\u001b[39m(\u001b[39mmax\u001b[39m(i\u001b[39m-\u001b[39mhalf, \u001b[39m0\u001b[39m), \u001b[39mmin\u001b[39m(i\u001b[39m+\u001b[39mhalf, \u001b[39mlen\u001b[39m(im)\u001b[39m-\u001b[39m\u001b[39m1\u001b[39m))\n\u001b[0;32m---> 75\u001b[0m mean \u001b[39m=\u001b[39m np\u001b[39m.\u001b[39mmean([np\u001b[39m.\u001b[39mmean([im[x][y] \u001b[39mfor\u001b[39;00m y \u001b[39min\u001b[39;00m rangeJ]) \u001b[39mfor\u001b[39;00m x \u001b[39min\u001b[39;00m rangeI])\n\u001b[1;32m     76\u001b[0m BnW_image[i][j] \u001b[39m=\u001b[39m im[i][j] \u001b[39m>\u001b[39m mean \u001b[39m-\u001b[39m thresh\n\u001b[1;32m     77\u001b[0m i \u001b[39m+\u001b[39m\u001b[39m=\u001b[39m \u001b[39m1\u001b[39m\n",
      "File \u001b[0;32m~/Desktop/fingerprint_tda/fingerprint.py:75\u001b[0m, in \u001b[0;36m<listcomp>\u001b[0;34m(.0)\u001b[0m\n\u001b[1;32m     73\u001b[0m rangeJ \u001b[39m=\u001b[39m \u001b[39mrange\u001b[39m(\u001b[39mmax\u001b[39m(j\u001b[39m-\u001b[39mhalf, \u001b[39m0\u001b[39m), \u001b[39mmin\u001b[39m(j\u001b[39m+\u001b[39mhalf, \u001b[39mlen\u001b[39m(im[\u001b[39m0\u001b[39m])\u001b[39m-\u001b[39m\u001b[39m1\u001b[39m))\n\u001b[1;32m     74\u001b[0m rangeI \u001b[39m=\u001b[39m \u001b[39mrange\u001b[39m(\u001b[39mmax\u001b[39m(i\u001b[39m-\u001b[39mhalf, \u001b[39m0\u001b[39m), \u001b[39mmin\u001b[39m(i\u001b[39m+\u001b[39mhalf, \u001b[39mlen\u001b[39m(im)\u001b[39m-\u001b[39m\u001b[39m1\u001b[39m))\n\u001b[0;32m---> 75\u001b[0m mean \u001b[39m=\u001b[39m np\u001b[39m.\u001b[39mmean([np\u001b[39m.\u001b[39mmean([im[x][y] \u001b[39mfor\u001b[39;00m y \u001b[39min\u001b[39;00m rangeJ]) \u001b[39mfor\u001b[39;00m x \u001b[39min\u001b[39;00m rangeI])\n\u001b[1;32m     76\u001b[0m BnW_image[i][j] \u001b[39m=\u001b[39m im[i][j] \u001b[39m>\u001b[39m mean \u001b[39m-\u001b[39m thresh\n\u001b[1;32m     77\u001b[0m i \u001b[39m+\u001b[39m\u001b[39m=\u001b[39m \u001b[39m1\u001b[39m\n",
      "\u001b[0;31mKeyboardInterrupt\u001b[0m: "
     ]
    }
   ],
   "source": [
    "import fingerprint\n",
    "import cv2\n",
    "from skimage.util import invert\n",
    "from gtda.images import RadialFiltration\n",
    "from gtda.diagrams import Scaler\n",
    "from gtda.diagrams import HeatKernel"
   ]
  },
  {
   "cell_type": "code",
   "execution_count": null,
   "metadata": {},
   "outputs": [],
   "source": [
    "\n",
    "original_img = cv2.imread(\"images/print1.png\", cv2.IMREAD_ANYCOLOR)\n",
    "BnW_image = fingerprint.BinarizeFingerprint(original_img)\n"
   ]
  },
  {
   "cell_type": "code",
   "execution_count": null,
   "metadata": {},
   "outputs": [],
   "source": [
    "radial_filtration = RadialFiltration(center=np.array([150, 50]))\n",
    "filtered = radial_filtration.fit_transform(np.array([invert(BnW_image)]))\n",
    "radial_filtration.plot(filtered, colorscale=\"jet\")"
   ]
  },
  {
   "cell_type": "code",
   "execution_count": null,
   "metadata": {},
   "outputs": [],
   "source": [
    "diagrams_basic = fingerprint.ToPersistenceDiagram(filtered)\n",
    "scaler = Scaler()\n",
    "scaled_diagrams = scaler.fit_transform(diagrams_basic)\n",
    "scaler.plot(scaled_diagrams)"
   ]
  },
  {
   "cell_type": "code",
   "execution_count": null,
   "metadata": {},
   "outputs": [],
   "source": [
    "h = HeatKernel(sigma=.15, n_bins=60, n_jobs=-1)\n",
    "h_img = h.fit_transform(scaled_diagrams)\n",
    "h.plot(h_img, homology_dimension_idx=1, colorscale='jet')"
   ]
  }
 ],
 "metadata": {
  "kernelspec": {
   "display_name": "base",
   "language": "python",
   "name": "python3"
  },
  "language_info": {
   "codemirror_mode": {
    "name": "ipython",
    "version": 3
   },
   "file_extension": ".py",
   "mimetype": "text/x-python",
   "name": "python",
   "nbconvert_exporter": "python",
   "pygments_lexer": "ipython3",
   "version": "3.9.13"
  }
 },
 "nbformat": 4,
 "nbformat_minor": 2
}
